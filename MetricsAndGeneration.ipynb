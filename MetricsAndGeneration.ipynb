{
  "nbformat": 4,
  "nbformat_minor": 0,
  "metadata": {
    "colab": {
      "name": "metrics.ipynb",
      "provenance": [],
      "collapsed_sections": []
    },
    "kernelspec": {
      "name": "python3",
      "display_name": "Python 3"
    }
  },
  "cells": [
    {
      "cell_type": "code",
      "metadata": {
        "id": "Jkvy4HU2pwYl"
      },
      "source": [
        "import numpy as np\n",
        "import statistics as stat\n",
        "import math\n",
        "import statistics"
      ],
      "execution_count": 2,
      "outputs": []
    },
    {
      "cell_type": "code",
      "metadata": {
        "id": "-ifSJDPSW-Re"
      },
      "source": [
        "def EP(A):\n",
        "\n",
        "\n",
        "  wasteA=0\n",
        "  wasteB=0\n",
        "  for i in A:\n",
        "    if i>0.5:\n",
        "      wasteA=wasteA + i-0.5\n",
        "      wasteB=wasteB+(1-i)\n",
        "    elif i<0.5:\n",
        "      wasteA=wasteA + i \n",
        "      wasteB= wasteB +(1-i)-0.5\n",
        "  return  (wasteA-wasteB)/len(A)\n",
        "\n",
        "\n"
      ],
      "execution_count": 3,
      "outputs": []
    },
    {
      "cell_type": "code",
      "metadata": {
        "id": "bo_KGMBrtnJW"
      },
      "source": [
        "def PB(A):\n",
        "\n",
        "    \n",
        "  totalA=0\n",
        "  totalB=0\n",
        "  for i in A :\n",
        "    totalA=totalA+i\n",
        "    totalB=totalB+1-i\n",
        "  shift=(totalA-totalB)/(2*len(A))\n",
        "  for i in range(len(A)-1) :\n",
        "    A[i]=A[i]-shift\n",
        "  return EP(A)\n",
        "\n",
        "    \n",
        "  \n"
      ],
      "execution_count": 4,
      "outputs": []
    },
    {
      "cell_type": "code",
      "metadata": {
        "id": "rhd4G6JV0Fc9"
      },
      "source": [
        "def MMD(A):\n",
        "\n",
        "  totalA=0\n",
        "  for i in A:\n",
        "    totalA=totalA+i\n",
        "  \n",
        "  average=totalA/len(A)\n",
        "  med=statistics.median(A)\n",
        "\n",
        "  return (med-average)/len(A)"
      ],
      "execution_count": 5,
      "outputs": []
    },
    {
      "cell_type": "code",
      "metadata": {
        "id": "qlq39fRVSy5j"
      },
      "source": [
        "def ourfunction(A,k,m) : \n",
        "  \n",
        "  a=EP(A)\n",
        "  b=PB(A)\n",
        "  c=MMD(A)\n",
        "  value=-k*(a*a+b*b+c*c)/(m*m)\n",
        "  final = math.exp(value)\n",
        "  print(str(final))\n",
        "  return math.exp(value)"
      ],
      "execution_count": 30,
      "outputs": []
    },
    {
      "cell_type": "code",
      "metadata": {
        "id": "oBLvofyDWCdj"
      },
      "source": [
        "def advantage(A): \n",
        "  sumA=0\n",
        "  sumSeat=0\n",
        "  for i in A:\n",
        "\n",
        "    sumA=sumA+i\n",
        "    if i>0.5:\n",
        "      sumSeat=SumSeat+1\n",
        "    elif i==0.5:\n",
        "      SumSeat=SumSeat+0.5\n",
        "  \n",
        "  return (SumSeat-SumA)/len(A)\n",
        "\n",
        "    \n",
        "  \n"
      ],
      "execution_count": 7,
      "outputs": []
    },
    {
      "cell_type": "code",
      "metadata": {
        "colab": {
          "base_uri": "https://localhost:8080/"
        },
        "id": "2MvR7bwulw3V",
        "outputId": "4d869392-9ec1-4332-c91a-9683e0fb0071"
      },
      "source": [
        "\n",
        "k = .2231\n",
        "m = .0861\n",
        "\n",
        "\n",
        "mean=0.5\n",
        "\n",
        "stdDev = .1\n",
        "\n",
        "#Generate first array\n",
        "dNums = np.random.normal(mean, stdDev, size=(50))\n",
        "ourfunction(dNums, k, m)\n"
      ],
      "execution_count": 28,
      "outputs": [
        {
          "output_type": "execute_result",
          "data": {
            "text/plain": [
              "0.9066454459617842"
            ]
          },
          "metadata": {
            "tags": []
          },
          "execution_count": 28
        }
      ]
    },
    {
      "cell_type": "code",
      "metadata": {
        "id": "NdpU1L98iG_h"
      },
      "source": [
        ""
      ],
      "execution_count": null,
      "outputs": []
    }
  ]
}