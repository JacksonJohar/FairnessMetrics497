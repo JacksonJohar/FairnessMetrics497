{
  "nbformat": 4,
  "nbformat_minor": 0,
  "metadata": {
    "colab": {
      "name": "metrics.ipynb",
      "provenance": []
    },
    "kernelspec": {
      "name": "python3",
      "display_name": "Python 3"
    }
  },
  "cells": [
    {
      "cell_type": "code",
      "metadata": {
        "id": "-ifSJDPSW-Re"
      },
      "source": [
        "def EP(A):\n",
        "\n",
        "\n",
        "  wasteA=0\n",
        "  wasteB=0\n",
        "  for i in A:\n",
        "    if i>0.5:\n",
        "      wasteA=wasteA + i-0.5\n",
        "      wasteB=wasteB+(1-i)\n",
        "    elif i<0.5:\n",
        "      wasteA=wasteA + i \n",
        "      wasteB= wasteB +(1-i)-0.5\n",
        "  return  (wasteA-wasteB)/len(A)\n",
        "\n",
        "\n"
      ],
      "execution_count": null,
      "outputs": []
    },
    {
      "cell_type": "code",
      "metadata": {
        "id": "bo_KGMBrtnJW"
      },
      "source": [
        "def PB(A):\n",
        "\n",
        "    \n",
        "  totalA=0\n",
        "  totalB=0\n",
        "  for i in A :\n",
        "    totalA=totalA+i\n",
        "    totalB=totalB+1-i\n",
        "  shift=(totalA-toalB)/(2*len(A))\n",
        "  for i in range(len(A)-1) :\n",
        "    A[i]=A[i]-shift\n",
        "  return EP(A)\n",
        "\n",
        "    \n",
        "  \n"
      ],
      "execution_count": null,
      "outputs": []
    },
    {
      "cell_type": "code",
      "metadata": {
        "id": "rhd4G6JV0Fc9"
      },
      "source": [
        "def MMD(A):\n",
        "\n",
        "  totalA=0\n",
        "  for i in A:\n",
        "    totalA=totalA+i\n",
        "  \n",
        "  average=totalA/len(A)\n",
        "  med=median(A)\n",
        "\n",
        "  return (med-average)/len(A)"
      ],
      "execution_count": null,
      "outputs": []
    },
    {
      "cell_type": "code",
      "metadata": {
        "id": "qlq39fRVSy5j"
      },
      "source": [
        ""
      ],
      "execution_count": null,
      "outputs": []
    }
  ]
}